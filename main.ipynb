{
 "cells": [
  {
   "cell_type": "markdown",
   "metadata": {},
   "source": [
    "Please create a folder named `data` in the main directory and place the following files inside it:\n",
    "\n",
    "- `Reddit-Threads_2020-2021.csv`\n",
    "- `Reddit-Threads_2022-2023.csv`"
   ]
  },
  {
   "cell_type": "code",
   "execution_count": 1,
   "metadata": {},
   "outputs": [],
   "source": [
    "import pandas as pd"
   ]
  },
  {
   "cell_type": "markdown",
   "metadata": {},
   "source": [
    "# Reading in data"
   ]
  },
  {
   "cell_type": "code",
   "execution_count": 45,
   "metadata": {},
   "outputs": [
    {
     "name": "stdout",
     "output_type": "stream",
     "text": [
      "                                                text            timestamp  \\\n",
      "0                                      STI chiong ah  2020-05-14 12:35:30   \n",
      "1  Look on the bright side - you'll never make th...  2020-02-09 17:23:24   \n",
      "2  For posts flaired as such (by OP), we will be ...  2021-04-06 18:08:59   \n",
      "3  sounds q fucked up if no concern for each othe...  2021-01-22 14:22:42   \n",
      "4  Chinese media reported a while ago: https://ww...  2020-03-26 04:51:22   \n",
      "\n",
      "         username                                               link  \\\n",
      "0       iamabear1  /r/singapore/comments/gjjem5/covid19_8663_busi...   \n",
      "1          lkc159  /r/singapore/comments/f15aks/did_i_just_get_sc...   \n",
      "2   AutoModerator  /r/singapore/comments/maajuo/a_compilation_of_...   \n",
      "3       [deleted]  /r/singapore/comments/l28wfr/rsingapore_random...   \n",
      "4  localinfluenza  /r/singapore/comments/fp5hgu/pcf_cluster_anoth...   \n",
      "\n",
      "     link_id   parent_id       id subreddit_id  \\\n",
      "0  t3_gjjem5   t3_gjjem5  fqljinp     t5_2qh8c   \n",
      "1  t3_f15aks   t3_f15aks  fh3hl0g     t5_2qh8c   \n",
      "2  t3_maajuo   t3_maajuo  gtlh5uf     t5_2qh8c   \n",
      "3  t3_l28wfr  t1_gk6fcys  gk6gc0y     t5_2qh8c   \n",
      "4  t3_fp5hgu   t3_fp5hgu  flj42mf     t5_2qh8c   \n",
      "\n",
      "                                          moderation  \n",
      "0  {'removal_reason': None, 'collapsed': False, '...  \n",
      "1  {'removal_reason': None, 'collapsed': False, '...  \n",
      "2  {'collapsed_reason': None, 'author_is_blocked'...  \n",
      "3  {'removal_reason': None, 'collapsed': False, '...  \n",
      "4  {'removal_reason': None, 'collapsed': False, '...  \n",
      "(10000, 9)\n"
     ]
    }
   ],
   "source": [
    "df = pd.DataFrame()\n",
    "\n",
    "###   SMALL DATASET   ###\n",
    "df = pd.read_csv('data/Reddit-Threads_2020-2021.csv', nrows=10000)\n",
    "print(df.head())\n",
    "###   SMALL DATASET   ###\n",
    "\n",
    "###   FULL DATASET   ###\n",
    "# chunk_size = 10000\n",
    "# for chunk in pd.read_csv('data/Reddit-Threads_2020-2021.csv', chunksize=chunk_size):\n",
    "#     print(chunk.head())  \n",
    "#     df = pd.concat([df, chunk])\n",
    "# for chunk in pd.read_csv('data/Reddit-Threads_2022-2023.csv', chunksize=chunk_size):\n",
    "#     print(chunk.head())  \n",
    "#     df = pd.concat([df, chunk])\n",
    "###   FULL DATASET   ###\n",
    "\n",
    "print(df.shape)\n"
   ]
  },
  {
   "cell_type": "markdown",
   "metadata": {},
   "source": [
    "# Cleaning"
   ]
  },
  {
   "cell_type": "code",
   "execution_count": 51,
   "metadata": {},
   "outputs": [
    {
     "name": "stdout",
     "output_type": "stream",
     "text": [
      "<class 'pandas.core.series.Series'>\n"
     ]
    }
   ],
   "source": [
    "print(type(df['moderation']))\n",
    "# moderation_normalized = pd.json_normalize(df['moderation'])\n",
    "# print(moderation_normalized)\n",
    "# df_normalized = pd.concat([df.drop(columns=['moderation']), moderation_normalized], axis=1)\n",
    "# print(df_normalized.head())\n"
   ]
  },
  {
   "cell_type": "code",
   "execution_count": 44,
   "metadata": {},
   "outputs": [
    {
     "name": "stdout",
     "output_type": "stream",
     "text": [
      "Original moderation data:\n",
      "0    {'removal_reason': None, 'collapsed': False, '...\n",
      "1    {'collapsed_reason': None, 'author_is_blocked'...\n",
      "Name: moderation, dtype: object\n",
      "\n",
      "Normalized moderation data:\n",
      "   removal_reason  collapsed collapsed_reason  controversiality  \\\n",
      "0             NaN      False             None                 0   \n",
      "1             NaN      False             None                 0   \n",
      "\n",
      "  author_is_blocked  collapsed_reason_code  \n",
      "0               NaN                    NaN  \n",
      "1             False                    NaN  \n",
      "\n",
      "Combined DataFrame:\n",
      "   id  removal_reason  collapsed collapsed_reason  controversiality  \\\n",
      "0   1             NaN      False             None                 0   \n",
      "1   2             NaN      False             None                 0   \n",
      "\n",
      "  author_is_blocked  collapsed_reason_code  \n",
      "0               NaN                    NaN  \n",
      "1             False                    NaN  \n"
     ]
    }
   ],
   "source": [
    "import pandas as pd\n",
    "\n",
    "# Sample DataFrame\n",
    "data = {\n",
    "    'id': [1, 2],\n",
    "    'moderation': [\n",
    "        {'removal_reason': None, 'collapsed': False, 'collapsed_reason': None, 'controversiality': 0},\n",
    "        {'collapsed_reason': None, 'author_is_blocked': False, 'collapsed_reason_code': None, 'collapsed': False, 'controversiality': 0}\n",
    "    ]\n",
    "}\n",
    "\n",
    "df = pd.DataFrame(data)\n",
    "\n",
    "# Check the content of the moderation column\n",
    "print(\"Original moderation data:\")\n",
    "print(df['moderation'].head())\n",
    "\n",
    "# Normalize the 'moderation' column\n",
    "moderation_normalized = pd.json_normalize(df['moderation'])\n",
    "\n",
    "# Print normalized DataFrame\n",
    "print(\"\\nNormalized moderation data:\")\n",
    "print(moderation_normalized)\n",
    "\n",
    "# Combine with the original DataFrame (excluding the original 'moderation' column)\n",
    "df_normalized = pd.concat([df.drop(columns=['moderation']), moderation_normalized], axis=1)\n",
    "\n",
    "# Print the resulting DataFrame\n",
    "print(\"\\nCombined DataFrame:\")\n",
    "print(df_normalized)\n"
   ]
  },
  {
   "cell_type": "code",
   "execution_count": 54,
   "metadata": {},
   "outputs": [
    {
     "name": "stdout",
     "output_type": "stream",
     "text": [
      "Length of moderation Series: 10000\n",
      "First few entries in moderation Series:\n",
      "0    {'removal_reason': None, 'collapsed': False, '...\n",
      "1    {'removal_reason': None, 'collapsed': False, '...\n",
      "2    {'collapsed_reason': None, 'author_is_blocked'...\n",
      "3    {'removal_reason': None, 'collapsed': False, '...\n",
      "4    {'removal_reason': None, 'collapsed': False, '...\n",
      "5    {'collapsed_reason': None, 'author_is_blocked'...\n",
      "6    {'collapsed_reason_code': None, 'collapsed_rea...\n",
      "7    {'collapsed_reason_code': None, 'collapsed_rea...\n",
      "8    {'removal_reason': None, 'collapsed': False, '...\n",
      "9    {'removal_reason': None, 'collapsed': False, '...\n",
      "Name: moderation, dtype: object\n",
      "Types of entries in moderation Series:\n",
      "moderation\n",
      "<class 'str'>    10000\n",
      "Name: count, dtype: int64\n",
      "Filtered valid dictionaries:\n",
      "Series([], Name: moderation, dtype: object)\n",
      "\n",
      "Normalized moderation data:\n",
      "Empty DataFrame\n",
      "Columns: []\n",
      "Index: []\n",
      "\n",
      "Combined DataFrame:\n",
      "                                                   text            timestamp  \\\n",
      "0                                         STI chiong ah  2020-05-14 12:35:30   \n",
      "1     Look on the bright side - you'll never make th...  2020-02-09 17:23:24   \n",
      "2     For posts flaired as such (by OP), we will be ...  2021-04-06 18:08:59   \n",
      "3     sounds q fucked up if no concern for each othe...  2021-01-22 14:22:42   \n",
      "4     Chinese media reported a while ago: https://ww...  2020-03-26 04:51:22   \n",
      "...                                                 ...                  ...   \n",
      "9995  Damn, my Frostmourne sword is so going to be s...  2021-07-20 05:50:47   \n",
      "9996                                          [removed]  2021-12-13 07:12:28   \n",
      "9997  I need someone who has Microsoft Flight Sim 20...  2020-08-04 04:21:30   \n",
      "9998  wow ew, i read some of what you said and i rea...  2020-11-17 12:15:42   \n",
      "9999  There is a saying in Chinese: 大义灭亲 (Remove you...  2021-01-07 16:34:06   \n",
      "\n",
      "              username                                               link  \\\n",
      "0            iamabear1  /r/singapore/comments/gjjem5/covid19_8663_busi...   \n",
      "1               lkc159  /r/singapore/comments/f15aks/did_i_just_get_sc...   \n",
      "2        AutoModerator  /r/singapore/comments/maajuo/a_compilation_of_...   \n",
      "3            [deleted]  /r/singapore/comments/l28wfr/rsingapore_random...   \n",
      "4       localinfluenza  /r/singapore/comments/fp5hgu/pcf_cluster_anoth...   \n",
      "...                ...                                                ...   \n",
      "9995  littlefiredragon  /r/singapore/comments/onoblk/rsingapore_random...   \n",
      "9996         [deleted]  /r/singapore/comments/reogvd/a_watercolour_pai...   \n",
      "9997    ArchonUniverse  /r/singapore/comments/i36pjg/rsingapore_random...   \n",
      "9998      ForzentoRafe  /r/singapore/comments/jvganu/rsingapore_random...   \n",
      "9999         LaZZyBird  /r/singapore/comments/ksbt97/family_treated_wo...   \n",
      "\n",
      "        link_id   parent_id       id subreddit_id  \n",
      "0     t3_gjjem5   t3_gjjem5  fqljinp     t5_2qh8c  \n",
      "1     t3_f15aks   t3_f15aks  fh3hl0g     t5_2qh8c  \n",
      "2     t3_maajuo   t3_maajuo  gtlh5uf     t5_2qh8c  \n",
      "3     t3_l28wfr  t1_gk6fcys  gk6gc0y     t5_2qh8c  \n",
      "4     t3_fp5hgu   t3_fp5hgu  flj42mf     t5_2qh8c  \n",
      "...         ...         ...      ...          ...  \n",
      "9995  t3_onoblk  t1_h5ubi3f  h5ufd6q     t5_2qh8c  \n",
      "9996  t3_reogvd   t3_reogvd  hocq9jz     t5_2qh8c  \n",
      "9997  t3_i36pjg   t3_i36pjg  g0alvc8     t5_2qh8c  \n",
      "9998  t3_jvganu  t1_gclj1xv  gclq4aj     t5_2qh8c  \n",
      "9999  t3_ksbt97   t3_ksbt97  giftjnq     t5_2qh8c  \n",
      "\n",
      "[10000 rows x 8 columns]\n"
     ]
    }
   ],
   "source": [
    "# Check the length of the Series and its first few entries\n",
    "print(\"Length of moderation Series:\", len(df['moderation']))\n",
    "print(\"First few entries in moderation Series:\")\n",
    "print(df['moderation'].head(10))  # Displaying more entries for better insight\n",
    "\n",
    "# Check the type of each entry in the moderation column\n",
    "print(\"Types of entries in moderation Series:\")\n",
    "print(df['moderation'].apply(type).value_counts())\n",
    "\n",
    "# Filter out non-dictionary entries\n",
    "moderation_dicts = df['moderation'].dropna().apply(lambda x: x if isinstance(x, dict) else None).dropna()\n",
    "\n",
    "# Check if we have valid dictionaries to normalize\n",
    "print(\"Filtered valid dictionaries:\")\n",
    "print(moderation_dicts)\n",
    "\n",
    "# Normalize the moderation data\n",
    "moderation_normalized = pd.json_normalize(moderation_dicts)\n",
    "\n",
    "# Print the normalized DataFrame\n",
    "print(\"\\nNormalized moderation data:\")\n",
    "print(moderation_normalized)\n",
    "\n",
    "# Combine with the original DataFrame if needed\n",
    "df_normalized = pd.concat([df.drop(columns=['moderation']), moderation_normalized], axis=1)\n",
    "print(\"\\nCombined DataFrame:\")\n",
    "print(df_normalized)\n"
   ]
  }
 ],
 "metadata": {
  "kernelspec": {
   "display_name": "Python 3",
   "language": "python",
   "name": "python3"
  },
  "language_info": {
   "codemirror_mode": {
    "name": "ipython",
    "version": 3
   },
   "file_extension": ".py",
   "mimetype": "text/x-python",
   "name": "python",
   "nbconvert_exporter": "python",
   "pygments_lexer": "ipython3",
   "version": "3.11.9"
  }
 },
 "nbformat": 4,
 "nbformat_minor": 2
}
